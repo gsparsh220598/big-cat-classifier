{
 "cells": [
  {
   "cell_type": "code",
   "execution_count": 1,
   "id": "edd08790-a5ff-4b69-9810-21b30e0376bd",
   "metadata": {},
   "outputs": [],
   "source": [
    "# !pip3 install wandb duckduckgo_search -qq"
   ]
  },
  {
   "cell_type": "code",
   "execution_count": 5,
   "id": "53623add-5f6d-4938-9f1c-58284ec217de",
   "metadata": {},
   "outputs": [],
   "source": [
    "from fastcore.all import *\n",
    "from fastai.vision.widgets import *\n",
    "from fastdownload import download_url\n",
    "from fastai.vision.all import *\n",
    "from time import sleep\n",
    "import pandas as pd\n",
    "import wandb\n",
    "import params\n",
    "import utils\n",
    "import torchvision.models as tvmodels\n",
    "from fastai.callback.wandb import WandbCallback"
   ]
  },
  {
   "cell_type": "code",
   "execution_count": 6,
   "id": "e445000d-a945-4e3b-b076-38e25efdd978",
   "metadata": {},
   "outputs": [],
   "source": [
    "train_config = SimpleNamespace(\n",
    "    framework=\"fastai\",\n",
    "    img_size=(180, 320),\n",
    "    batch_size=8,\n",
    "    augment=True, # use data augmentation\n",
    "    epochs=10, \n",
    "    lr=2e-3,\n",
    "    arch=\"resnet18\",\n",
    "    pretrained=True,  # whether to use pretrained encoder\n",
    "    seed=42,\n",
    "    log_preds=True,\n",
    ")"
   ]
  },
  {
   "cell_type": "code",
   "execution_count": 1,
   "id": "7eb30733-dd66-4b6e-adba-3fe29d35d99d",
   "metadata": {},
   "outputs": [],
   "source": [
    "def download_data():\n",
    "    processed_data_at = run.use_artifact(f'{params.PROCESSED_DATA_AT}:latest')\n",
    "    processed_dataset_dir = Path(processed_data_at.download())\n",
    "    return processed_data_dir"
   ]
  },
  {
   "cell_type": "code",
   "execution_count": 3,
   "id": "bc406d3e-82c8-4d97-bdf9-4d19ea5c3941",
   "metadata": {},
   "outputs": [],
   "source": [
    "def get_df(processed_dataset_dir, is_test=False):\n",
    "    df = pd.read_csv(processed_dataset_dir / 'data_split.csv')\n",
    "    path = processed_dataset_dir/'bcc_images'\n",
    "\n",
    "    #assign paths\n",
    "    df['image_fname'] = [f for f in get_image_files(path)]\n",
    "    df['label'] = [utils.label_func(f) for f in df.image_fname.values]\n",
    "    \n",
    "    #val/test mode\n",
    "    if not is_test:\n",
    "        df = df[df.stage != 'test'].reset_index(drop=True)\n",
    "        df['is_valid'] = df.stage == 'valid'\n",
    "    else:\n",
    "        df = df[df.stage == 'test'].reset_index(drop=True)\n",
    "\n",
    "    return df"
   ]
  },
  {
   "cell_type": "code",
   "execution_count": 11,
   "id": "bd94b2b5-7cc3-4af7-a6e4-a7fd43da0320",
   "metadata": {},
   "outputs": [],
   "source": [
    "def get_data(df, bs=4, img_size=(180, 320), augment=True):\n",
    "    block = DataBlock(blocks=(ImageBlock, CategoryBlock),\n",
    "                  get_x=ColReader(\"image_fname\"),\n",
    "                  get_y=ColReader(\"label\"),\n",
    "                  splitter=ColSplitter(),\n",
    "                  item_tfms=Resize(img_size),\n",
    "                  batch_tfms=aug_transforms() if augment else None,\n",
    "                 )\n",
    "    return block.dataloaders(df, bs=bs, shuffle=True)"
   ]
  },
  {
   "cell_type": "code",
   "execution_count": 12,
   "id": "190cb585-21af-4d8b-a1b1-18e783605baa",
   "metadata": {},
   "outputs": [],
   "source": []
  },
  {
   "cell_type": "code",
   "execution_count": 17,
   "id": "3c9e2b74-04f4-4b26-a352-6ed626656faf",
   "metadata": {},
   "outputs": [],
   "source": [
    "def train(config):\n",
    "    set_seed(config.seed, reproducible=True)\n",
    "    run = wandb.init(project=params.WANDB_PROJECT, entity=params.ENTITY, job_type=\"training\", config=config)\n",
    "    \n",
    "    config = wandb.config\n",
    "    processed_dataset_dir = download_data()\n",
    "    df = get_df(processed_dataset_dir)\n",
    "    dls = get_data(df, bs=config.batch_size, img_size=config.img_size, augment=config.augment)\n",
    "\n",
    "    metrics = [accuracy, error_rate, F1Score(average='weighted'), HammingLoss()]\n",
    "    learn = vision_learner(dls, arch=getattr(tvmodels, config.arch), pretrained=config.pretrained, metrics=metrics)\n",
    "\n",
    "    callbacks = [\n",
    "        SaveModelCallback(monitor='accuracy'),\n",
    "        WandbCallback(log_preds=False, log_model=True)\n",
    "    ]\n",
    "\n",
    "    learn.fit_one_cycle(config.epochs, config.lr, cbs=callbacks)\n",
    "    \n",
    "    if config.log_preds:\n",
    "        log_predictions(learn)\n",
    "    log_metrics(learn)\n",
    "    \n",
    "    wandb.finish()"
   ]
  },
  {
   "cell_type": "code",
   "execution_count": 18,
   "id": "0b0a7f7e-6b0d-468d-b258-f91ba103bb52",
   "metadata": {},
   "outputs": [
    {
     "data": {
      "text/html": [
       "\n",
       "<style>\n",
       "    /* Turns off some styling */\n",
       "    progress {\n",
       "        /* gets rid of default border in Firefox and Opera. */\n",
       "        border: none;\n",
       "        /* Needs to be in here for Safari polyfill so background images work as expected. */\n",
       "        background-size: auto;\n",
       "    }\n",
       "    progress:not([value]), progress:not([value])::-webkit-progress-bar {\n",
       "        background: repeating-linear-gradient(45deg, #7e7e7e, #7e7e7e 10px, #5c5c5c 10px, #5c5c5c 20px);\n",
       "    }\n",
       "    .progress-bar-interrupted, .progress-bar-interrupted::-webkit-progress-bar {\n",
       "        background: #F44336;\n",
       "    }\n",
       "</style>\n"
      ],
      "text/plain": [
       "<IPython.core.display.HTML object>"
      ]
     },
     "metadata": {},
     "output_type": "display_data"
    },
    {
     "data": {
      "text/html": [],
      "text/plain": [
       "<IPython.core.display.HTML object>"
      ]
     },
     "metadata": {},
     "output_type": "display_data"
    },
    {
     "data": {
      "text/html": [
       "\n",
       "<style>\n",
       "    /* Turns off some styling */\n",
       "    progress {\n",
       "        /* gets rid of default border in Firefox and Opera. */\n",
       "        border: none;\n",
       "        /* Needs to be in here for Safari polyfill so background images work as expected. */\n",
       "        background-size: auto;\n",
       "    }\n",
       "    progress:not([value]), progress:not([value])::-webkit-progress-bar {\n",
       "        background: repeating-linear-gradient(45deg, #7e7e7e, #7e7e7e 10px, #5c5c5c 10px, #5c5c5c 20px);\n",
       "    }\n",
       "    .progress-bar-interrupted, .progress-bar-interrupted::-webkit-progress-bar {\n",
       "        background: #F44336;\n",
       "    }\n",
       "</style>\n"
      ],
      "text/plain": [
       "<IPython.core.display.HTML object>"
      ]
     },
     "metadata": {},
     "output_type": "display_data"
    },
    {
     "data": {
      "text/html": [
       "\n",
       "    <div>\n",
       "      <progress value='30' class='' max='30' style='width:300px; height:20px; vertical-align: middle;'></progress>\n",
       "      100.00% [30/30 00:00&lt;00:00]\n",
       "    </div>\n",
       "    "
      ],
      "text/plain": [
       "<IPython.core.display.HTML object>"
      ]
     },
     "metadata": {},
     "output_type": "display_data"
    }
   ],
   "source": [
    "def log_predicitons(learner):\n",
    "    \"Log Predictions with class probabilities\"\n",
    "    samples, outputs, predictions = utils.get_predictions(learn)\n",
    "    table = utils.create_prob_table(samples, outputs, predictions, params.BIG_CAT_CLASSES)\n",
    "    wandb.log({\"pred_table\":table})"
   ]
  },
  {
   "cell_type": "code",
   "execution_count": 19,
   "id": "a09d47d5-1717-42ac-b4ce-e0e57368fa99",
   "metadata": {},
   "outputs": [
    {
     "data": {
      "text/html": [
       "\n",
       "<style>\n",
       "    /* Turns off some styling */\n",
       "    progress {\n",
       "        /* gets rid of default border in Firefox and Opera. */\n",
       "        border: none;\n",
       "        /* Needs to be in here for Safari polyfill so background images work as expected. */\n",
       "        background-size: auto;\n",
       "    }\n",
       "    progress:not([value]), progress:not([value])::-webkit-progress-bar {\n",
       "        background: repeating-linear-gradient(45deg, #7e7e7e, #7e7e7e 10px, #5c5c5c 10px, #5c5c5c 20px);\n",
       "    }\n",
       "    .progress-bar-interrupted, .progress-bar-interrupted::-webkit-progress-bar {\n",
       "        background: #F44336;\n",
       "    }\n",
       "</style>\n"
      ],
      "text/plain": [
       "<IPython.core.display.HTML object>"
      ]
     },
     "metadata": {},
     "output_type": "display_data"
    },
    {
     "data": {
      "text/html": [],
      "text/plain": [
       "<IPython.core.display.HTML object>"
      ]
     },
     "metadata": {},
     "output_type": "display_data"
    }
   ],
   "source": [
    "def log_metrics(learner):\n",
    "    scores = learner.validate()\n",
    "    metric_names = ['final_loss'] + [f'final_{x}' for x in ['accuracy', 'error_rate', 'f1score_weighted', 'hamming_loss']]\n",
    "    final_results = {metric_names[i] : scores[i] for i in range(len(scores))}\n",
    "    for k,v in final_results.items():\n",
    "        wandb.summary[k] = v"
   ]
  },
  {
   "cell_type": "code",
   "execution_count": 20,
   "id": "de1e3760-d654-4460-8f45-d7b219cf9766",
   "metadata": {},
   "outputs": [
    {
     "data": {
      "text/html": [
       "Waiting for W&B process to finish... <strong style=\"color:green\">(success).</strong>"
      ],
      "text/plain": [
       "<IPython.core.display.HTML object>"
      ]
     },
     "metadata": {},
     "output_type": "display_data"
    },
    {
     "data": {
      "text/html": [
       "<style>\n",
       "    table.wandb td:nth-child(1) { padding: 0 10px; text-align: left ; width: auto;} td:nth-child(2) {text-align: left ; width: 100%}\n",
       "    .wandb-row { display: flex; flex-direction: row; flex-wrap: wrap; justify-content: flex-start; width: 100% }\n",
       "    .wandb-col { display: flex; flex-direction: column; flex-basis: 100%; flex: 1; padding: 10px; }\n",
       "    </style>\n",
       "<div class=\"wandb-row\"><div class=\"wandb-col\"><h3>Run history:</h3><br/><table class=\"wandb\"><tr><td>accuracy</td><td>▁▇▆▅█▇▆▅▅▅</td></tr><tr><td>epoch</td><td>▁▁▁▁▂▂▂▂▂▃▃▃▃▃▃▄▄▄▄▄▅▅▅▅▅▅▆▆▆▆▆▇▇▇▇▇▇███</td></tr><tr><td>eps_0</td><td>▁▁▁▁▁▁▁▁▁▁▁▁▁▁▁▁▁▁▁▁▁▁▁▁▁▁▁▁▁▁▁▁▁▁▁▁▁▁▁▁</td></tr><tr><td>eps_1</td><td>▁▁▁▁▁▁▁▁▁▁▁▁▁▁▁▁▁▁▁▁▁▁▁▁▁▁▁▁▁▁▁▁▁▁▁▁▁▁▁▁</td></tr><tr><td>eps_2</td><td>▁▁▁▁▁▁▁▁▁▁▁▁▁▁▁▁▁▁▁▁▁▁▁▁▁▁▁▁▁▁▁▁▁▁▁▁▁▁▁▁</td></tr><tr><td>error_rate</td><td>█▂▃▅▁▂▃▄▄▅</td></tr><tr><td>f1_score</td><td>▁▇▇▅█▇▇▆▆▅</td></tr><tr><td>hamming_loss</td><td>█▂▃▄▁▂▃▄▄▄</td></tr><tr><td>lr_0</td><td>▁▁▂▃▄▅▆▇▇██████▇▇▇▇▇▆▆▅▅▅▄▄▄▃▃▃▂▂▂▂▁▁▁▁▁</td></tr><tr><td>lr_1</td><td>▁▁▂▃▄▅▆▇▇██████▇▇▇▇▇▆▆▅▅▅▄▄▄▃▃▃▂▂▂▂▁▁▁▁▁</td></tr><tr><td>lr_2</td><td>▁▁▂▃▄▅▆▇▇██████▇▇▇▇▇▆▆▅▅▅▄▄▄▃▃▃▂▂▂▂▁▁▁▁▁</td></tr><tr><td>mom_0</td><td>██▇▆▅▄▃▂▂▁▁▁▁▁▁▂▂▂▂▂▃▃▄▄▄▅▅▅▆▆▆▇▇▇▇█████</td></tr><tr><td>mom_1</td><td>██▇▆▅▄▃▂▂▁▁▁▁▁▁▂▂▂▂▂▃▃▄▄▄▅▅▅▆▆▆▇▇▇▇█████</td></tr><tr><td>mom_2</td><td>██▇▆▅▄▃▂▂▁▁▁▁▁▁▂▂▂▂▂▃▃▄▄▄▅▅▅▆▆▆▇▇▇▇█████</td></tr><tr><td>raw_loss</td><td>██▆▅▃▄▁▂▃▂▃▂▃▃▁▁▄▁▂▁▁▂▁▂▃▁▁▂▂▁▃▁▂▂▂▂▁▁▂▁</td></tr><tr><td>sqr_mom_0</td><td>▁▁▁▁▁▁▁▁▁▁▁▁▁▁▁▁▁▁▁▁▁▁▁▁▁▁▁▁▁▁▁▁▁▁▁▁▁▁▁▁</td></tr><tr><td>sqr_mom_1</td><td>▁▁▁▁▁▁▁▁▁▁▁▁▁▁▁▁▁▁▁▁▁▁▁▁▁▁▁▁▁▁▁▁▁▁▁▁▁▁▁▁</td></tr><tr><td>sqr_mom_2</td><td>▁▁▁▁▁▁▁▁▁▁▁▁▁▁▁▁▁▁▁▁▁▁▁▁▁▁▁▁▁▁▁▁▁▁▁▁▁▁▁▁</td></tr><tr><td>train_loss</td><td>███▇▆▅▅▄▄▃▃▃▃▃▂▂▂▂▂▂▂▂▂▂▂▂▁▁▁▁▁▁▁▁▁▁▁▁▁▁</td></tr><tr><td>train_samples_per_sec</td><td>▆▇▇▇▆▆▆▅▆▇▆▇▂▆█▇▆▆▅▇▆▂▇▅▆▃▅█▁▅▇▇▇▆▇▇▆▆▇▇</td></tr><tr><td>valid_loss</td><td>█▃▂▃▁▂▂▄▄▃</td></tr><tr><td>wd_0</td><td>▁▁▁▁▁▁▁▁▁▁▁▁▁▁▁▁▁▁▁▁▁▁▁▁▁▁▁▁▁▁▁▁▁▁▁▁▁▁▁▁</td></tr><tr><td>wd_1</td><td>▁▁▁▁▁▁▁▁▁▁▁▁▁▁▁▁▁▁▁▁▁▁▁▁▁▁▁▁▁▁▁▁▁▁▁▁▁▁▁▁</td></tr><tr><td>wd_2</td><td>▁▁▁▁▁▁▁▁▁▁▁▁▁▁▁▁▁▁▁▁▁▁▁▁▁▁▁▁▁▁▁▁▁▁▁▁▁▁▁▁</td></tr></table><br/></div><div class=\"wandb-col\"><h3>Run summary:</h3><br/><table class=\"wandb\"><tr><td>accuracy</td><td>0.83333</td></tr><tr><td>epoch</td><td>10</td></tr><tr><td>eps_0</td><td>1e-05</td></tr><tr><td>eps_1</td><td>1e-05</td></tr><tr><td>eps_2</td><td>1e-05</td></tr><tr><td>error_rate</td><td>0.16667</td></tr><tr><td>f1_score</td><td>0.84278</td></tr><tr><td>final_accuracy</td><td>0.96667</td></tr><tr><td>final_error_rate</td><td>0.03333</td></tr><tr><td>final_f1score_weighted</td><td>0.96633</td></tr><tr><td>final_hamming_loss</td><td>0.03333</td></tr><tr><td>final_loss</td><td>0.1016</td></tr><tr><td>hamming_loss</td><td>0.16667</td></tr><tr><td>lr_0</td><td>0.0</td></tr><tr><td>lr_1</td><td>0.0</td></tr><tr><td>lr_2</td><td>0.0</td></tr><tr><td>mom_0</td><td>0.94999</td></tr><tr><td>mom_1</td><td>0.94999</td></tr><tr><td>mom_2</td><td>0.94999</td></tr><tr><td>raw_loss</td><td>0.46638</td></tr><tr><td>sqr_mom_0</td><td>0.99</td></tr><tr><td>sqr_mom_1</td><td>0.99</td></tr><tr><td>sqr_mom_2</td><td>0.99</td></tr><tr><td>train_loss</td><td>0.33353</td></tr><tr><td>train_samples_per_sec</td><td>535.92576</td></tr><tr><td>valid_loss</td><td>0.33178</td></tr><tr><td>wd_0</td><td>0.01</td></tr><tr><td>wd_1</td><td>0.01</td></tr><tr><td>wd_2</td><td>0.01</td></tr></table><br/></div></div>"
      ],
      "text/plain": [
       "<IPython.core.display.HTML object>"
      ]
     },
     "metadata": {},
     "output_type": "display_data"
    },
    {
     "data": {
      "text/html": [
       " View run <strong style=\"color:#cdcd00\">rich-smoke-9</strong> at: <a href='https://wandb.ai/gsparsh/big-cat-classification/runs/391nyt8r' target=\"_blank\">https://wandb.ai/gsparsh/big-cat-classification/runs/391nyt8r</a><br/>Synced 5 W&B file(s), 1 media file(s), 31 artifact file(s) and 0 other file(s)"
      ],
      "text/plain": [
       "<IPython.core.display.HTML object>"
      ]
     },
     "metadata": {},
     "output_type": "display_data"
    },
    {
     "data": {
      "text/html": [
       "Find logs at: <code>./wandb/run-20230207_231646-391nyt8r/logs</code>"
      ],
      "text/plain": [
       "<IPython.core.display.HTML object>"
      ]
     },
     "metadata": {},
     "output_type": "display_data"
    }
   ],
   "source": [
    "train(train_config)"
   ]
  },
  {
   "cell_type": "code",
   "execution_count": 26,
   "id": "1307225f-fcc2-43b1-ae1e-8e003aa22a1e",
   "metadata": {},
   "outputs": [
    {
     "data": {
      "text/plain": [
       "((TensorImage([[[ 95,  95,  96,  ...,  92,  90,  84],\n",
       "                [ 93,  93,  96,  ...,  96,  87,  86],\n",
       "                [ 92,  93,  95,  ...,  94,  89,  90],\n",
       "                ...,\n",
       "                [115, 120, 128,  ..., 137, 138, 143],\n",
       "                [120, 115, 120,  ..., 134, 135, 139],\n",
       "                [123, 120, 122,  ..., 143, 137, 132]],\n",
       "  \n",
       "               [[105, 105, 105,  ..., 105, 104,  97],\n",
       "                [103, 104, 106,  ..., 106,  98,  97],\n",
       "                [102, 103, 105,  ..., 103,  98,  98],\n",
       "                ...,\n",
       "                [104, 109, 117,  ..., 122, 123, 128],\n",
       "                [109, 104, 109,  ..., 119, 120, 124],\n",
       "                [112, 109, 111,  ..., 128, 122, 117]],\n",
       "  \n",
       "               [[ 72,  72,  75,  ...,  70,  69,  61],\n",
       "                [ 72,  74,  77,  ...,  72,  63,  60],\n",
       "                [ 76,  77,  79,  ...,  68,  61,  60],\n",
       "                ...,\n",
       "                [ 58,  63,  72,  ...,  89,  90,  95],\n",
       "                [ 63,  59,  64,  ...,  86,  87,  91],\n",
       "                [ 66,  63,  65,  ...,  95,  89,  84]]]),\n",
       "  'Lion'),\n",
       " 'Lion',\n",
       " TensorBase([8.4717e-04, 1.9725e-04, 1.8598e-07, 1.5181e-05, 9.9891e-01,\n",
       "             8.3908e-06, 1.9744e-05]))"
      ]
     },
     "execution_count": 26,
     "metadata": {},
     "output_type": "execute_result"
    }
   ],
   "source": [
    "samples[18], outputs[18][0], predictions[18]"
   ]
  },
  {
   "cell_type": "code",
   "execution_count": null,
   "id": "682b631b-8c5f-4f09-9abc-c4da3d8c8da8",
   "metadata": {},
   "outputs": [],
   "source": []
  }
 ],
 "metadata": {
  "kernelspec": {
   "display_name": "Python 3 (ipykernel)",
   "language": "python",
   "name": "python3"
  },
  "language_info": {
   "codemirror_mode": {
    "name": "ipython",
    "version": 3
   },
   "file_extension": ".py",
   "mimetype": "text/x-python",
   "name": "python",
   "nbconvert_exporter": "python",
   "pygments_lexer": "ipython3",
   "version": "3.9.13"
  }
 },
 "nbformat": 4,
 "nbformat_minor": 5
}
