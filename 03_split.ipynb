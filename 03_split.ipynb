{
 "cells": [
  {
   "cell_type": "code",
   "execution_count": 1,
   "id": "aee979e5-b46d-4754-ad6e-f3ceb25fe4cd",
   "metadata": {},
   "outputs": [],
   "source": [
    "import os, warnings\n",
    "import wandb\n",
    "\n",
    "import pandas as pd\n",
    "from fastai.vision.all import *\n",
    "from sklearn.model_selection import StratifiedKFold\n",
    "\n",
    "import params\n",
    "warnings.filterwarnings('ignore')"
   ]
  },
  {
   "cell_type": "code",
   "execution_count": 2,
   "id": "ce087ec5-739a-4bac-bd6f-554dae4914e3",
   "metadata": {},
   "outputs": [
    {
     "name": "stderr",
     "output_type": "stream",
     "text": [
      "\u001b[34m\u001b[1mwandb\u001b[0m: Currently logged in as: \u001b[33mgsparsh\u001b[0m. Use \u001b[1m`wandb login --relogin`\u001b[0m to force relogin\n"
     ]
    },
    {
     "data": {
      "application/vnd.jupyter.widget-view+json": {
       "model_id": "69fa586371564df690e91137f2e7752e",
       "version_major": 2,
       "version_minor": 0
      },
      "text/plain": [
       "VBox(children=(Label(value='Waiting for wandb.init()...\\r'), FloatProgress(value=0.016669328200320403, max=1.0…"
      ]
     },
     "metadata": {},
     "output_type": "display_data"
    },
    {
     "data": {
      "text/html": [
       "Tracking run with wandb version 0.13.9"
      ],
      "text/plain": [
       "<IPython.core.display.HTML object>"
      ]
     },
     "metadata": {},
     "output_type": "display_data"
    },
    {
     "data": {
      "text/html": [
       "Run data is saved locally in <code>/notebooks/Big Cat Classification/wandb/run-20230202_185300-t7pnsjyq</code>"
      ],
      "text/plain": [
       "<IPython.core.display.HTML object>"
      ]
     },
     "metadata": {},
     "output_type": "display_data"
    },
    {
     "data": {
      "text/html": [
       "Syncing run <strong><a href=\"https://wandb.ai/gsparsh/big-cat-classification/runs/t7pnsjyq\" target=\"_blank\">scintillating-dragon-6</a></strong> to <a href=\"https://wandb.ai/gsparsh/big-cat-classification\" target=\"_blank\">Weights & Biases</a> (<a href=\"https://wandb.me/run\" target=\"_blank\">docs</a>)<br/>"
      ],
      "text/plain": [
       "<IPython.core.display.HTML object>"
      ]
     },
     "metadata": {},
     "output_type": "display_data"
    },
    {
     "data": {
      "text/html": [
       " View project at <a href=\"https://wandb.ai/gsparsh/big-cat-classification\" target=\"_blank\">https://wandb.ai/gsparsh/big-cat-classification</a>"
      ],
      "text/plain": [
       "<IPython.core.display.HTML object>"
      ]
     },
     "metadata": {},
     "output_type": "display_data"
    },
    {
     "data": {
      "text/html": [
       " View run at <a href=\"https://wandb.ai/gsparsh/big-cat-classification/runs/t7pnsjyq\" target=\"_blank\">https://wandb.ai/gsparsh/big-cat-classification/runs/t7pnsjyq</a>"
      ],
      "text/plain": [
       "<IPython.core.display.HTML object>"
      ]
     },
     "metadata": {},
     "output_type": "display_data"
    }
   ],
   "source": [
    "run = wandb.init(project=params.WANDB_PROJECT, entity=params.ENTITY, job_type=\"data_split\")"
   ]
  },
  {
   "cell_type": "code",
   "execution_count": 27,
   "id": "8e6fdaff-e1b8-4eec-b1e6-e255c2ac0ec4",
   "metadata": {},
   "outputs": [
    {
     "name": "stderr",
     "output_type": "stream",
     "text": [
      "\u001b[34m\u001b[1mwandb\u001b[0m: Downloading large artifact bcc_bigcats_clean:latest, 51.28MB. 591 files... \n",
      "\u001b[34m\u001b[1mwandb\u001b[0m:   591 of 591 files downloaded.  \n",
      "Done. 0:0:0.6\n"
     ]
    }
   ],
   "source": [
    "raw_data_at = run.use_artifact(f'{params.CLEAN_DATA_AT}:latest')\n",
    "path = Path(raw_data_at.download())"
   ]
  },
  {
   "cell_type": "code",
   "execution_count": 59,
   "id": "e32dc2e9-3b0b-4554-8fc1-6f3335d8d306",
   "metadata": {},
   "outputs": [
    {
     "data": {
      "text/plain": [
       "(#3) [Path('artifacts/bcc_bigcats_clean:v0/eda_table.table.json'),Path('artifacts/bcc_bigcats_clean:v0/bcc_images'),Path('artifacts/bcc_bigcats_clean:v0/media')]"
      ]
     },
     "execution_count": 59,
     "metadata": {},
     "output_type": "execute_result"
    }
   ],
   "source": [
    "path.ls()"
   ]
  },
  {
   "cell_type": "code",
   "execution_count": 60,
   "id": "3c91f714-3a57-45a1-89a6-d4db555e8486",
   "metadata": {},
   "outputs": [],
   "source": [
    "fnames = orig_eda_table.get_column(\"File_Name\")\n",
    "groups = [s.split('-')[0] for s in fnames]"
   ]
  },
  {
   "cell_type": "code",
   "execution_count": 61,
   "id": "0e9ffe76-8583-4a74-914a-591c7f2675ed",
   "metadata": {},
   "outputs": [
    {
     "name": "stderr",
     "output_type": "stream",
     "text": [
      "\u001b[34m\u001b[1mwandb\u001b[0m: Downloading large artifact bcc_bigcats_clean:latest, 51.28MB. 591 files... \n",
      "\u001b[34m\u001b[1mwandb\u001b[0m:   591 of 591 files downloaded.  \n",
      "Done. 0:0:0.1\n"
     ]
    }
   ],
   "source": [
    "orig_eda_table = raw_data_at.get(\"eda_table\")"
   ]
  },
  {
   "cell_type": "code",
   "execution_count": 62,
   "id": "fb138852-8d6b-4127-8e30-74b8b2721276",
   "metadata": {},
   "outputs": [],
   "source": [
    "y = orig_eda_table.get_column('Labels')\n",
    "# y = [int(label=='Black Panther') for label in y] #Stratify by Black Panther Class"
   ]
  },
  {
   "cell_type": "code",
   "execution_count": 63,
   "id": "411a6a2c-8be5-435b-8fc8-2045d132f7c8",
   "metadata": {},
   "outputs": [],
   "source": [
    "df = pd.DataFrame()\n",
    "df['File_Name'] = fnames\n",
    "df['fold'] = -1"
   ]
  },
  {
   "cell_type": "code",
   "execution_count": 64,
   "id": "ccd6387b-8c10-42bd-95bb-7460e143c65b",
   "metadata": {},
   "outputs": [
    {
     "data": {
      "text/plain": [
       "292"
      ]
     },
     "execution_count": 64,
     "metadata": {},
     "output_type": "execute_result"
    }
   ],
   "source": [
    "df.head()\n",
    "len(df)"
   ]
  },
  {
   "cell_type": "code",
   "execution_count": 65,
   "id": "df9f8daf-d278-47ec-9aff-072754b1ee8d",
   "metadata": {},
   "outputs": [],
   "source": [
    "cv = StratifiedKFold(n_splits=10)\n",
    "for i, (train_idxs, test_idxs) in enumerate(cv.split(fnames, y)):\n",
    "    df.loc[test_idxs, ['fold']] = i"
   ]
  },
  {
   "cell_type": "code",
   "execution_count": 68,
   "id": "b612971f-10e6-416f-afdb-1d1ac3433404",
   "metadata": {},
   "outputs": [
    {
     "data": {
      "text/plain": [
       "train    232\n",
       "test      30\n",
       "valid     30\n",
       "Name: stage, dtype: int64"
      ]
     },
     "execution_count": 68,
     "metadata": {},
     "output_type": "execute_result"
    }
   ],
   "source": [
    "df['stage'] = 'train'\n",
    "df.loc[df.fold == 0, ['stage']] = 'test'\n",
    "df.loc[df.fold == 1, ['stage']] = 'valid'\n",
    "del df['fold']\n",
    "df.stage.value_counts()"
   ]
  },
  {
   "cell_type": "code",
   "execution_count": 70,
   "id": "f87fc561-3e8f-47a4-bd48-c97704251460",
   "metadata": {},
   "outputs": [],
   "source": [
    "df.to_csv('data_split.csv', index=False)"
   ]
  },
  {
   "cell_type": "code",
   "execution_count": 71,
   "id": "d3292695-e19d-4109-a456-0ba2bdddccb8",
   "metadata": {},
   "outputs": [],
   "source": [
    "processed_data_at = wandb.Artifact(params.PROCESSED_DATA_AT, type='split_data')"
   ]
  },
  {
   "cell_type": "code",
   "execution_count": 72,
   "id": "1c5dd507-bd2c-4a4e-869e-b76030d4378a",
   "metadata": {},
   "outputs": [
    {
     "name": "stderr",
     "output_type": "stream",
     "text": [
      "\u001b[34m\u001b[1mwandb\u001b[0m: Adding directory to artifact (./artifacts/bcc_bigcats_clean:v0)... Done. 0.5s\n"
     ]
    }
   ],
   "source": [
    "processed_data_at.add_file('data_split.csv')\n",
    "processed_data_at.add_dir(path)"
   ]
  },
  {
   "cell_type": "code",
   "execution_count": 73,
   "id": "1ff93829-5f30-44af-89b8-4fed3d4915ff",
   "metadata": {},
   "outputs": [],
   "source": [
    "data_split_table = wandb.Table(dataframe=df[['File_Name', 'stage']])"
   ]
  },
  {
   "cell_type": "code",
   "execution_count": 74,
   "id": "df4e9109-6362-4c36-94fb-ab0f01149743",
   "metadata": {},
   "outputs": [],
   "source": [
    "join_table = wandb.JoinedTable(orig_eda_table, data_split_table, \"File_Name\")"
   ]
  },
  {
   "cell_type": "code",
   "execution_count": 75,
   "id": "85200d29-0807-4bc4-b6f4-fdf9c14fc43c",
   "metadata": {},
   "outputs": [
    {
     "data": {
      "text/plain": [
       "ArtifactManifestEntry(path='eda_table_data_split.joined-table.json', digest='K5eiGyTK9Fww0c+ERiTPJA==', ref=None, birth_artifact_id=None, size=127, extra={}, local_path='/root/.local/share/wandb/artifacts/staging/tmpym0r4z1n')"
      ]
     },
     "execution_count": 75,
     "metadata": {},
     "output_type": "execute_result"
    }
   ],
   "source": [
    "processed_data_at.add(join_table, 'eda_table_data_split')"
   ]
  },
  {
   "cell_type": "code",
   "execution_count": 76,
   "id": "7f9570b0-b8cf-450a-9051-912d4eb3aaf1",
   "metadata": {},
   "outputs": [
    {
     "data": {
      "text/html": [
       "Waiting for W&B process to finish... <strong style=\"color:green\">(success).</strong>"
      ],
      "text/plain": [
       "<IPython.core.display.HTML object>"
      ]
     },
     "metadata": {},
     "output_type": "display_data"
    },
    {
     "data": {
      "text/html": [
       " View run <strong style=\"color:#cdcd00\">scintillating-dragon-6</strong> at: <a href=\"https://wandb.ai/gsparsh/big-cat-classification/runs/t7pnsjyq\" target=\"_blank\">https://wandb.ai/gsparsh/big-cat-classification/runs/t7pnsjyq</a><br/>Synced 5 W&B file(s), 0 media file(s), 596 artifact file(s) and 0 other file(s)"
      ],
      "text/plain": [
       "<IPython.core.display.HTML object>"
      ]
     },
     "metadata": {},
     "output_type": "display_data"
    },
    {
     "data": {
      "text/html": [
       "Find logs at: <code>./wandb/run-20230202_185300-t7pnsjyq/logs</code>"
      ],
      "text/plain": [
       "<IPython.core.display.HTML object>"
      ]
     },
     "metadata": {},
     "output_type": "display_data"
    }
   ],
   "source": [
    "run.log_artifact(processed_data_at)\n",
    "run.finish()"
   ]
  },
  {
   "cell_type": "code",
   "execution_count": 26,
   "id": "c2ff1a92-b5a5-41f8-9ff9-192018be62b6",
   "metadata": {},
   "outputs": [],
   "source": [
    "# import shutil\n",
    "\n",
    "# path = 'artifacts';\n",
    "# # Remove all directory content\n",
    "# try:\n",
    "#     shutil.rmtree(path)\n",
    "# except:\n",
    "#     print('Error deleting directory')"
   ]
  },
  {
   "cell_type": "code",
   "execution_count": null,
   "id": "f28b813d-f332-4bca-aac0-4de029a5f54e",
   "metadata": {},
   "outputs": [],
   "source": []
  }
 ],
 "metadata": {
  "kernelspec": {
   "display_name": "Python 3 (ipykernel)",
   "language": "python",
   "name": "python3"
  },
  "language_info": {
   "codemirror_mode": {
    "name": "ipython",
    "version": 3
   },
   "file_extension": ".py",
   "mimetype": "text/x-python",
   "name": "python",
   "nbconvert_exporter": "python",
   "pygments_lexer": "ipython3",
   "version": "3.9.13"
  }
 },
 "nbformat": 4,
 "nbformat_minor": 5
}
